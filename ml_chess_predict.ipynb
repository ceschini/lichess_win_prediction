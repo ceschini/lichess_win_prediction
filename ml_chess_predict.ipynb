{
 "cells": [
  {
   "cell_type": "markdown",
   "metadata": {},
   "source": [
    "# Chess Winner Prediction Using ML Models "
   ]
  },
  {
   "cell_type": "markdown",
   "metadata": {},
   "source": [
    "The goal is to predict chess matches winner using the available data from lichess dataset. And also, what is the impact of the opening (strategy and turns taken) in winning the game. You can inspect and download the dataset from [this url](https://www.kaggle.com/datasets/datasnaek/chess).\n",
    "\n",
    "**TODO: Improve introduction**\n",
    "\n",
    "**TODO: understand scikit-learn pipelines. [ref_1](https://scikit-learn.org/stable/modules/compose.html#pipeline), [ref_2](https://medium.com/data-hackers/como-usar-pipelines-no-scikit-learn-1398a4cc6ae9)**"
   ]
  },
  {
   "cell_type": "markdown",
   "metadata": {},
   "source": [
    "## About Dataset\n",
    "\n",
    "Extracted from official dataset index."
   ]
  },
  {
   "cell_type": "markdown",
   "metadata": {},
   "source": [
    "**General Info**\n",
    "\n",
    "This is a set of just over 20,000 games collected from a selection of users on the site Lichess.org, and how to collect more. This set contains the following features:\n",
    "\n",
    "\n",
    "- Game ID;\n",
    "- Rated (T/F);\n",
    "- Start Time;\n",
    "- End Time;\n",
    "- Number of Turns;\n",
    "- Game Status;\n",
    "- Winner;\n",
    "- Time Increment;\n",
    "- White Player ID;\n",
    "- White Player Rating;\n",
    "- Black Player ID;\n",
    "- Black Player Rating;\n",
    "- All Moves in Standard Chess Notation;\n",
    "- Opening Eco (Standardised Code for any given opening, [list here](https://www.365chess.com/eco.php));\n",
    "- Opening Name;\n",
    "- Opening Ply (Number of moves in the opening phase)\n",
    "\n",
    "Data was collected using the [Lichess API](https://github.com/ornicar/lila), which enables collection of any given users game history.\n",
    "\n",
    "**Possible Uses**\n",
    "\n",
    "Lots of information is contained within a single chess game, let alone a full dataset of multiple games. It is primarily a game of patterns, and data science is all about detecting patterns in data, which is why chess has been one of the most invested in areas of AI in the past. This dataset collects all of the information available from 20,000 games and presents it in a format that is easy to process for analysis of, for example, what allows a player to win as black or white, how much meta (out-of-game) factors affect a game, the relationship between openings and victory for black and white and more."
   ]
  },
  {
   "cell_type": "markdown",
   "metadata": {},
   "source": [
    "## Imports"
   ]
  },
  {
   "cell_type": "code",
   "execution_count": 562,
   "metadata": {},
   "outputs": [],
   "source": [
    "import numpy as np\n",
    "import pandas as pd\n",
    "from matplotlib import pyplot as plt\n",
    "# only on notebooks\n",
    "%matplotlib inline\n",
    "\n",
    "from sklearn.preprocessing import OneHotEncoder\n",
    "from sklearn.model_selection import train_test_split\n",
    "from sklearn.preprocessing import LabelEncoder\n",
    "from sklearn import preprocessing\n",
    "from sklearn.metrics import accuracy_score\n",
    "from sklearn.neighbors import KNeighborsClassifier\n",
    "from sklearn.model_selection import GridSearchCV\n",
    "from sklearn.tree import DecisionTreeClassifier\n",
    "from sklearn import metrics"
   ]
  },
  {
   "cell_type": "markdown",
   "metadata": {},
   "source": [
    "## Loading, exploring and preprocessing data"
   ]
  },
  {
   "cell_type": "code",
   "execution_count": 563,
   "metadata": {},
   "outputs": [],
   "source": [
    "chess = pd.read_csv('games.csv')"
   ]
  },
  {
   "cell_type": "code",
   "execution_count": 564,
   "metadata": {},
   "outputs": [
    {
     "name": "stdout",
     "output_type": "stream",
     "text": [
      "<class 'pandas.core.frame.DataFrame'>\n",
      "RangeIndex: 20058 entries, 0 to 20057\n",
      "Data columns (total 16 columns):\n",
      " #   Column          Non-Null Count  Dtype  \n",
      "---  ------          --------------  -----  \n",
      " 0   id              20058 non-null  object \n",
      " 1   rated           20058 non-null  bool   \n",
      " 2   created_at      20058 non-null  float64\n",
      " 3   last_move_at    20058 non-null  float64\n",
      " 4   turns           20058 non-null  int64  \n",
      " 5   victory_status  20058 non-null  object \n",
      " 6   winner          20058 non-null  object \n",
      " 7   increment_code  20058 non-null  object \n",
      " 8   white_id        20058 non-null  object \n",
      " 9   white_rating    20058 non-null  int64  \n",
      " 10  black_id        20058 non-null  object \n",
      " 11  black_rating    20058 non-null  int64  \n",
      " 12  moves           20058 non-null  object \n",
      " 13  opening_eco     20058 non-null  object \n",
      " 14  opening_name    20058 non-null  object \n",
      " 15  opening_ply     20058 non-null  int64  \n",
      "dtypes: bool(1), float64(2), int64(4), object(9)\n",
      "memory usage: 2.3+ MB\n"
     ]
    }
   ],
   "source": [
    "chess.info()"
   ]
  },
  {
   "cell_type": "code",
   "execution_count": 565,
   "metadata": {},
   "outputs": [
    {
     "data": {
      "text/plain": [
       "Index(['id', 'rated', 'created_at', 'last_move_at', 'turns', 'victory_status',\n",
       "       'winner', 'increment_code', 'white_id', 'white_rating', 'black_id',\n",
       "       'black_rating', 'moves', 'opening_eco', 'opening_name', 'opening_ply'],\n",
       "      dtype='object')"
      ]
     },
     "execution_count": 565,
     "metadata": {},
     "output_type": "execute_result"
    }
   ],
   "source": [
    "chess.columns"
   ]
  },
  {
   "cell_type": "code",
   "execution_count": 566,
   "metadata": {},
   "outputs": [
    {
     "data": {
      "text/html": [
       "<div>\n",
       "<style scoped>\n",
       "    .dataframe tbody tr th:only-of-type {\n",
       "        vertical-align: middle;\n",
       "    }\n",
       "\n",
       "    .dataframe tbody tr th {\n",
       "        vertical-align: top;\n",
       "    }\n",
       "\n",
       "    .dataframe thead th {\n",
       "        text-align: right;\n",
       "    }\n",
       "</style>\n",
       "<table border=\"1\" class=\"dataframe\">\n",
       "  <thead>\n",
       "    <tr style=\"text-align: right;\">\n",
       "      <th></th>\n",
       "      <th>created_at</th>\n",
       "      <th>last_move_at</th>\n",
       "      <th>turns</th>\n",
       "      <th>white_rating</th>\n",
       "      <th>black_rating</th>\n",
       "      <th>opening_ply</th>\n",
       "    </tr>\n",
       "  </thead>\n",
       "  <tbody>\n",
       "    <tr>\n",
       "      <th>count</th>\n",
       "      <td>2.005800e+04</td>\n",
       "      <td>2.005800e+04</td>\n",
       "      <td>20058.000000</td>\n",
       "      <td>20058.000000</td>\n",
       "      <td>20058.000000</td>\n",
       "      <td>20058.000000</td>\n",
       "    </tr>\n",
       "    <tr>\n",
       "      <th>mean</th>\n",
       "      <td>1.483617e+12</td>\n",
       "      <td>1.483618e+12</td>\n",
       "      <td>60.465999</td>\n",
       "      <td>1596.631868</td>\n",
       "      <td>1588.831987</td>\n",
       "      <td>4.816981</td>\n",
       "    </tr>\n",
       "    <tr>\n",
       "      <th>std</th>\n",
       "      <td>2.850151e+10</td>\n",
       "      <td>2.850140e+10</td>\n",
       "      <td>33.570585</td>\n",
       "      <td>291.253376</td>\n",
       "      <td>291.036126</td>\n",
       "      <td>2.797152</td>\n",
       "    </tr>\n",
       "    <tr>\n",
       "      <th>min</th>\n",
       "      <td>1.376772e+12</td>\n",
       "      <td>1.376772e+12</td>\n",
       "      <td>1.000000</td>\n",
       "      <td>784.000000</td>\n",
       "      <td>789.000000</td>\n",
       "      <td>1.000000</td>\n",
       "    </tr>\n",
       "    <tr>\n",
       "      <th>25%</th>\n",
       "      <td>1.477548e+12</td>\n",
       "      <td>1.477548e+12</td>\n",
       "      <td>37.000000</td>\n",
       "      <td>1398.000000</td>\n",
       "      <td>1391.000000</td>\n",
       "      <td>3.000000</td>\n",
       "    </tr>\n",
       "    <tr>\n",
       "      <th>50%</th>\n",
       "      <td>1.496010e+12</td>\n",
       "      <td>1.496010e+12</td>\n",
       "      <td>55.000000</td>\n",
       "      <td>1567.000000</td>\n",
       "      <td>1562.000000</td>\n",
       "      <td>4.000000</td>\n",
       "    </tr>\n",
       "    <tr>\n",
       "      <th>75%</th>\n",
       "      <td>1.503170e+12</td>\n",
       "      <td>1.503170e+12</td>\n",
       "      <td>79.000000</td>\n",
       "      <td>1793.000000</td>\n",
       "      <td>1784.000000</td>\n",
       "      <td>6.000000</td>\n",
       "    </tr>\n",
       "    <tr>\n",
       "      <th>max</th>\n",
       "      <td>1.504493e+12</td>\n",
       "      <td>1.504494e+12</td>\n",
       "      <td>349.000000</td>\n",
       "      <td>2700.000000</td>\n",
       "      <td>2723.000000</td>\n",
       "      <td>28.000000</td>\n",
       "    </tr>\n",
       "  </tbody>\n",
       "</table>\n",
       "</div>"
      ],
      "text/plain": [
       "         created_at  last_move_at         turns  white_rating  black_rating  \\\n",
       "count  2.005800e+04  2.005800e+04  20058.000000  20058.000000  20058.000000   \n",
       "mean   1.483617e+12  1.483618e+12     60.465999   1596.631868   1588.831987   \n",
       "std    2.850151e+10  2.850140e+10     33.570585    291.253376    291.036126   \n",
       "min    1.376772e+12  1.376772e+12      1.000000    784.000000    789.000000   \n",
       "25%    1.477548e+12  1.477548e+12     37.000000   1398.000000   1391.000000   \n",
       "50%    1.496010e+12  1.496010e+12     55.000000   1567.000000   1562.000000   \n",
       "75%    1.503170e+12  1.503170e+12     79.000000   1793.000000   1784.000000   \n",
       "max    1.504493e+12  1.504494e+12    349.000000   2700.000000   2723.000000   \n",
       "\n",
       "        opening_ply  \n",
       "count  20058.000000  \n",
       "mean       4.816981  \n",
       "std        2.797152  \n",
       "min        1.000000  \n",
       "25%        3.000000  \n",
       "50%        4.000000  \n",
       "75%        6.000000  \n",
       "max       28.000000  "
      ]
     },
     "execution_count": 566,
     "metadata": {},
     "output_type": "execute_result"
    }
   ],
   "source": [
    "chess.describe()"
   ]
  },
  {
   "cell_type": "code",
   "execution_count": 567,
   "metadata": {},
   "outputs": [
    {
     "data": {
      "image/png": "[encoded data removed]",
      "text/plain": [
       "<Figure size 720x504 with 6 Axes>"
      ]
     },
     "metadata": {
      "needs_background": "light"
     },
     "output_type": "display_data"
    }
   ],
   "source": [
    "chess.hist(bins=50, figsize=(10,7))\n",
    "plt.show()"
   ]
  },
  {
   "cell_type": "code",
   "execution_count": 568,
   "metadata": {},
   "outputs": [],
   "source": [
    "# chess['opening_eco'].unique().size"
   ]
  },
  {
   "cell_type": "markdown",
   "metadata": {},
   "source": [
    "### Grouping opening ecos by categories"
   ]
  },
  {
   "cell_type": "code",
   "execution_count": 569,
   "metadata": {},
   "outputs": [],
   "source": [
    "def get_rows_by_opening(df, code):\n",
    "    return df['opening_eco'][df['opening_eco'].str.startswith(code)]"
   ]
  },
  {
   "cell_type": "code",
   "execution_count": 570,
   "metadata": {},
   "outputs": [],
   "source": [
    "def group_ecos_by_cat(cat_array, df):\n",
    "    openings = []\n",
    "    for cat in cat_array:\n",
    "        opening = get_rows_by_opening(df, cat)\n",
    "        openings.append(opening)\n",
    "    \n",
    "    for idx, op in enumerate(openings, start=1):\n",
    "        for row in op:\n",
    "            df['opening_eco'] = df['opening_eco'].replace(row, idx)\n",
    "    return df"
   ]
  },
  {
   "cell_type": "code",
   "execution_count": 571,
   "metadata": {},
   "outputs": [],
   "source": [
    "cat_arr = ['A', 'B', 'C', 'D', 'E']\n",
    "inverse_cat_arr = ['E', 'D', 'C', 'B', 'A']\n",
    "# group_ecos_by_cat(inverse_cat_arr, chess)"
   ]
  },
  {
   "cell_type": "code",
   "execution_count": 572,
   "metadata": {},
   "outputs": [
    {
     "name": "stdout",
     "output_type": "stream",
     "text": [
      "['white' 'black' 'draw']\n",
      "3\n"
     ]
    }
   ],
   "source": [
    "print(chess['winner'].unique())\n",
    "print(chess['winner'].unique().size)"
   ]
  },
  {
   "cell_type": "code",
   "execution_count": 573,
   "metadata": {},
   "outputs": [
    {
     "name": "stdout",
     "output_type": "stream",
     "text": [
      "['outoftime' 'resign' 'mate' 'draw']\n",
      "4\n"
     ]
    }
   ],
   "source": [
    "print(chess['victory_status'].unique())\n",
    "print(chess['victory_status'].unique().size)"
   ]
  },
  {
   "cell_type": "markdown",
   "metadata": {},
   "source": [
    "### One-Hot Encoding Categorical Variables"
   ]
  },
  {
   "cell_type": "code",
   "execution_count": 574,
   "metadata": {},
   "outputs": [],
   "source": [
    "# https://www.statology.org/one-hot-encoding-in-python/\n",
    "\n",
    "def cat_encoder(df, var_array):\n",
    "    encoded, categories = var_array.factorize()\n",
    "    print('first values: ')\n",
    "    print(encoded[:10])\n",
    "    print(categories)\n",
    "    encoder = OneHotEncoder()\n",
    "    one_hot = encoder.fit_transform(encoded.reshape(-1, 1))\n",
    "    one_hot_df = pd.DataFrame(one_hot.toarray())\n",
    "    return df.join(one_hot_df)"
   ]
  },
  {
   "cell_type": "code",
   "execution_count": 575,
   "metadata": {},
   "outputs": [
    {
     "name": "stdout",
     "output_type": "stream",
     "text": [
      "first values: \n",
      "[0 1 0 0 0 2 0 1 1 0]\n",
      "Index(['white', 'black', 'draw'], dtype='object')\n"
     ]
    }
   ],
   "source": [
    "chess = cat_encoder(chess, chess['winner'])"
   ]
  },
  {
   "cell_type": "code",
   "execution_count": 576,
   "metadata": {},
   "outputs": [],
   "source": [
    "# keeping winner bcause its our y\n",
    "chess.rename({0: 'white_wins', 1: 'black_wins', 2: 'draw'}, axis=1, inplace=True)"
   ]
  },
  {
   "cell_type": "markdown",
   "metadata": {},
   "source": [
    "Dropping draw column to avoid redundancy"
   ]
  },
  {
   "cell_type": "code",
   "execution_count": 577,
   "metadata": {},
   "outputs": [],
   "source": [
    "chess.drop(['draw'], axis=1, inplace=True)"
   ]
  },
  {
   "cell_type": "code",
   "execution_count": 578,
   "metadata": {},
   "outputs": [
    {
     "name": "stdout",
     "output_type": "stream",
     "text": [
      "['outoftime' 'resign' 'mate' 'draw']\n",
      "4\n"
     ]
    }
   ],
   "source": [
    "print(chess['victory_status'].unique())\n",
    "print(chess['victory_status'].unique().size)"
   ]
  },
  {
   "cell_type": "code",
   "execution_count": 579,
   "metadata": {},
   "outputs": [],
   "source": [
    "# chess = cat_encoder(chess, chess['victory_status'])\n",
    "# chess.drop('victory_status', axis=1, inplace=True)\n",
    "# chess.rename({0: 'outoftime', 1: 'resign', 2: 'mate', 3: 'draw'}, axis=1, inplace=True)"
   ]
  },
  {
   "cell_type": "markdown",
   "metadata": {},
   "source": [
    "#### Filling missing data with a constant value"
   ]
  },
  {
   "cell_type": "code",
   "execution_count": 580,
   "metadata": {},
   "outputs": [],
   "source": [
    "chess['victory_status'] = chess['victory_status'].fillna(\"resign\")"
   ]
  },
  {
   "cell_type": "markdown",
   "metadata": {},
   "source": [
    "### Further exploring"
   ]
  },
  {
   "cell_type": "code",
   "execution_count": 581,
   "metadata": {},
   "outputs": [],
   "source": [
    "train_set, test_set = train_test_split(chess, test_size=0.2, random_state=42)"
   ]
  },
  {
   "cell_type": "code",
   "execution_count": 582,
   "metadata": {},
   "outputs": [],
   "source": [
    "exp_chess = train_set.copy()"
   ]
  },
  {
   "cell_type": "code",
   "execution_count": 583,
   "metadata": {},
   "outputs": [],
   "source": [
    "corr_matrix = exp_chess.corr()"
   ]
  },
  {
   "cell_type": "code",
   "execution_count": 584,
   "metadata": {},
   "outputs": [
    {
     "data": {
      "text/plain": [
       "white_wins      1.000000\n",
       "white_rating    0.126157\n",
       "opening_ply     0.013721\n",
       "rated           0.004258\n",
       "created_at     -0.027690\n",
       "last_move_at   -0.027690\n",
       "turns          -0.075366\n",
       "black_rating   -0.171295\n",
       "black_wins     -0.909616\n",
       "Name: white_wins, dtype: float64"
      ]
     },
     "execution_count": 584,
     "metadata": {},
     "output_type": "execute_result"
    }
   ],
   "source": [
    "corr_matrix['white_wins'].sort_values(ascending=False)"
   ]
  },
  {
   "cell_type": "code",
   "execution_count": 585,
   "metadata": {},
   "outputs": [
    {
     "data": {
      "text/plain": [
       "black_wins      1.000000\n",
       "black_rating    0.155364\n",
       "created_at      0.018253\n",
       "last_move_at    0.018252\n",
       "rated           0.008949\n",
       "turns           0.007362\n",
       "opening_ply    -0.021261\n",
       "white_rating   -0.146594\n",
       "white_wins     -0.909616\n",
       "Name: black_wins, dtype: float64"
      ]
     },
     "execution_count": 585,
     "metadata": {},
     "output_type": "execute_result"
    }
   ],
   "source": [
    "corr_matrix['black_wins'].sort_values(ascending=False)"
   ]
  },
  {
   "cell_type": "markdown",
   "metadata": {},
   "source": [
    "#### Exploratory assumptions\n",
    "\n",
    "* There is no apparent linear relations between features.\n",
    "* It's easier to win on white side, even if you are outranked by your opponent.\n",
    "* The most common method to win is ```resign```.\n",
    "* Black have better chances on longer games, winning by ```outoftime```.\n",
    "* Simetrically, white have better chances on short ```opening_ply```.\n",
    "* The longer the game, more chances black have to win.\n"
   ]
  },
  {
   "cell_type": "code",
   "execution_count": 586,
   "metadata": {},
   "outputs": [
    {
     "data": {
      "text/plain": [
       "white    10001\n",
       "black     9107\n",
       "draw       950\n",
       "Name: winner, dtype: int64"
      ]
     },
     "execution_count": 586,
     "metadata": {},
     "output_type": "execute_result"
    }
   ],
   "source": [
    "chess['winner'].value_counts()"
   ]
  },
  {
   "cell_type": "markdown",
   "metadata": {},
   "source": [
    "Also, looks like there is no label class inbalance."
   ]
  },
  {
   "cell_type": "markdown",
   "metadata": {},
   "source": [
    "Player's ranks difference might be a good indicator of winner. So we will measure it by taking the absolute difference between players."
   ]
  },
  {
   "cell_type": "code",
   "execution_count": 587,
   "metadata": {},
   "outputs": [],
   "source": [
    "# chess['elo_diff'] = chess['white_rating'] - chess['black_rating']\n",
    "# chess['elo_diff'] = chess['elo_diff'].apply(abs)"
   ]
  },
  {
   "cell_type": "markdown",
   "metadata": {},
   "source": [
    "### Dropping unused columns"
   ]
  },
  {
   "cell_type": "markdown",
   "metadata": {},
   "source": [
    "Some features, like unique match and player's ```id```, if match was ```rated``` or not, and timestamps are not useful to us. Therefore, they must be removed. Also, ```moves``` can result in some sort of data leakage, and will be removed aswell."
   ]
  },
  {
   "cell_type": "code",
   "execution_count": 588,
   "metadata": {},
   "outputs": [],
   "source": [
    "# MY INITIAL PARAMS\n",
    "# chess = chess.drop(['id', 'rated', 'created_at', 'last_move_at', 'increment_code', 'white_id', 'black_id', 'opening_name', 'moves'], axis=1)\n",
    "\n",
    "# ZEYNEP PARAMS (BEST)\n",
    "chess = chess.drop([\"id\", \"created_at\", \"last_move_at\", \"increment_code\", \"white_id\", \"white_rating\", \"black_id\", \"black_rating\", \"moves\", \"opening_eco\", \"opening_name\", \"opening_ply\"], axis=1)\n",
    "\n",
    "# ZEYNEP PARAMS + ELOS\n",
    "# chess = chess.drop([\"id\", \"created_at\", \"last_move_at\", \"increment_code\", \"white_id\", \"black_id\", \"moves\", \"opening_eco\", \"opening_name\", \"opening_ply\"], axis=1)\n",
    "\n",
    "# ZEYNEP PARAMS + OPENINGS\n",
    "# chess = chess.drop([\"id\", \"created_at\", \"last_move_at\", \"increment_code\", \"white_id\", \"white_rating\", \"black_rating\", \"black_id\", \"moves\", \"opening_name\"], axis=1)"
   ]
  },
  {
   "cell_type": "markdown",
   "metadata": {},
   "source": [
    "### Finishing dataset preprocessing"
   ]
  },
  {
   "cell_type": "code",
   "execution_count": 589,
   "metadata": {},
   "outputs": [],
   "source": [
    "chess.drop(['white_wins', 'black_wins'], axis=1, inplace=True)"
   ]
  },
  {
   "cell_type": "code",
   "execution_count": 590,
   "metadata": {},
   "outputs": [],
   "source": [
    "# draws = chess.loc[chess['winner'] == 'draw']\n",
    "# chess.drop(draws.index, inplace=True)"
   ]
  },
  {
   "cell_type": "markdown",
   "metadata": {},
   "source": [
    "#### Converting categorical columns"
   ]
  },
  {
   "cell_type": "code",
   "execution_count": 591,
   "metadata": {},
   "outputs": [],
   "source": [
    "from sklearn.preprocessing import LabelEncoder\n",
    "LE = LabelEncoder()\n",
    "chess['winner'] = LE.fit_transform(chess['winner'])\n",
    "chess['rated'] = LE.fit_transform(chess['rated'])\n",
    "chess['victory_status'] = LE.fit_transform(chess['victory_status'])"
   ]
  },
  {
   "cell_type": "code",
   "execution_count": 592,
   "metadata": {},
   "outputs": [],
   "source": [
    "from sklearn.impute import KNNImputer     #Completing missing data with KNN Algorithm\n",
    "imputer = KNNImputer(missing_values=np.nan, n_neighbors=5)\n",
    "imputer.fit(chess)\n",
    "chess[:] = imputer.transform(chess)"
   ]
  },
  {
   "cell_type": "markdown",
   "metadata": {},
   "source": [
    "### Normalization"
   ]
  },
  {
   "cell_type": "code",
   "execution_count": 593,
   "metadata": {},
   "outputs": [],
   "source": [
    "def normalize(val):\n",
    "    val = (val-np.min(val))/(np.max(val)-np.min(val))\n",
    "    return val"
   ]
  },
  {
   "cell_type": "code",
   "execution_count": 594,
   "metadata": {},
   "outputs": [],
   "source": [
    "# MINE\n",
    "# features = ['turns', 'white_rating', 'black_rating', 'elo_diff', 'opening_ply']\n",
    "\n",
    "# ZEYNEP\n",
    "features = ['turns']\n",
    "\n",
    "# ZEYNEP + ELO\n",
    "# features = ['turns', 'white_rating', 'black_rating', 'elo_diff']\n",
    "\n",
    "# ZEYNEP + OPENINGS\n",
    "# features = ['turns', 'opening_ply']\n",
    "\n",
    "for ft in features:\n",
    "    chess[ft] = normalize(chess[ft])"
   ]
  },
  {
   "cell_type": "markdown",
   "metadata": {},
   "source": [
    "#### Final dataset status"
   ]
  },
  {
   "cell_type": "code",
   "execution_count": 595,
   "metadata": {},
   "outputs": [
    {
     "data": {
      "text/html": [
       "<div>\n",
       "<style scoped>\n",
       "    .dataframe tbody tr th:only-of-type {\n",
       "        vertical-align: middle;\n",
       "    }\n",
       "\n",
       "    .dataframe tbody tr th {\n",
       "        vertical-align: top;\n",
       "    }\n",
       "\n",
       "    .dataframe thead th {\n",
       "        text-align: right;\n",
       "    }\n",
       "</style>\n",
       "<table border=\"1\" class=\"dataframe\">\n",
       "  <thead>\n",
       "    <tr style=\"text-align: right;\">\n",
       "      <th></th>\n",
       "      <th>rated</th>\n",
       "      <th>turns</th>\n",
       "      <th>victory_status</th>\n",
       "      <th>winner</th>\n",
       "    </tr>\n",
       "  </thead>\n",
       "  <tbody>\n",
       "    <tr>\n",
       "      <th>0</th>\n",
       "      <td>0</td>\n",
       "      <td>0.034483</td>\n",
       "      <td>2</td>\n",
       "      <td>2</td>\n",
       "    </tr>\n",
       "    <tr>\n",
       "      <th>1</th>\n",
       "      <td>1</td>\n",
       "      <td>0.043103</td>\n",
       "      <td>3</td>\n",
       "      <td>0</td>\n",
       "    </tr>\n",
       "    <tr>\n",
       "      <th>2</th>\n",
       "      <td>1</td>\n",
       "      <td>0.172414</td>\n",
       "      <td>1</td>\n",
       "      <td>2</td>\n",
       "    </tr>\n",
       "    <tr>\n",
       "      <th>3</th>\n",
       "      <td>1</td>\n",
       "      <td>0.172414</td>\n",
       "      <td>1</td>\n",
       "      <td>2</td>\n",
       "    </tr>\n",
       "    <tr>\n",
       "      <th>4</th>\n",
       "      <td>1</td>\n",
       "      <td>0.270115</td>\n",
       "      <td>1</td>\n",
       "      <td>2</td>\n",
       "    </tr>\n",
       "  </tbody>\n",
       "</table>\n",
       "</div>"
      ],
      "text/plain": [
       "   rated     turns  victory_status  winner\n",
       "0      0  0.034483               2       2\n",
       "1      1  0.043103               3       0\n",
       "2      1  0.172414               1       2\n",
       "3      1  0.172414               1       2\n",
       "4      1  0.270115               1       2"
      ]
     },
     "execution_count": 595,
     "metadata": {},
     "output_type": "execute_result"
    }
   ],
   "source": [
    "chess.head()"
   ]
  },
  {
   "cell_type": "markdown",
   "metadata": {},
   "source": [
    "## Splitting Dataset using Holdout Method "
   ]
  },
  {
   "cell_type": "code",
   "execution_count": 596,
   "metadata": {},
   "outputs": [],
   "source": [
    "chess_data = chess.loc[:, chess.columns != 'winner']\n",
    "chess_labels = chess['winner']"
   ]
  },
  {
   "cell_type": "code",
   "execution_count": 597,
   "metadata": {},
   "outputs": [],
   "source": [
    "X_train, X_test, y_train, y_test = train_test_split(chess_data, chess_labels, test_size=0.30, random_state=42)"
   ]
  },
  {
   "cell_type": "markdown",
   "metadata": {},
   "source": [
    "### Feature Scaling"
   ]
  },
  {
   "cell_type": "markdown",
   "metadata": {},
   "source": [
    "Some features range from 0 to 2, while others go from 400 to 2500. This is not ideal because machine learning algorithms could weight them out and give non-existing importance to larger features.\n",
    "\n",
    "We'll use scikit-learn's ```MinMaxScaler``` to scale our data in the range of zero to one. This is ideal to train neural networks."
   ]
  },
  {
   "cell_type": "code",
   "execution_count": 598,
   "metadata": {},
   "outputs": [],
   "source": [
    "min_max_scaler = preprocessing.MinMaxScaler()\n",
    "std_scaler = preprocessing.StandardScaler()\n",
    "# X_train[X_train.columns] = min_max_scaler.fit_transform(X_train[X_train.columns])\n",
    "# X_train[X_train.columns] = std_scaler.fit_transform(X_train[X_train.columns])\n",
    "# X_train.head()"
   ]
  },
  {
   "cell_type": "markdown",
   "metadata": {},
   "source": [
    "After fitting scaler to train samples, we can apply to entire dataset."
   ]
  },
  {
   "cell_type": "code",
   "execution_count": 599,
   "metadata": {},
   "outputs": [],
   "source": [
    "# X_test[X_test.columns] = min_max_scaler.transform(X_test[X_test.columns])\n",
    "# X_test[X_test.columns] = std_scaler.transform(X_test[X_test.columns])\n",
    "# X_test.head()"
   ]
  },
  {
   "cell_type": "markdown",
   "metadata": {},
   "source": [
    "## Selecting and Training Models\n",
    "\n",
    "We will evaluate performance using cross validation on the following models:\n",
    "\n",
    "- K-nearest Neighbors\n",
    "- Decision Tree\n",
    "- Naive Bayes\n",
    "- Support Vector Machine\n",
    "- Neural Networks"
   ]
  },
  {
   "cell_type": "code",
   "execution_count": 600,
   "metadata": {},
   "outputs": [],
   "source": [
    "def train_eval_model(model):\n",
    "    model.fit(X_train, y_train)\n",
    "    train_pred = model.predict(X_train)\n",
    "    test_pred = model.predict(X_test)\n",
    "    train_acc = accuracy_score(y_train, train_pred)\n",
    "    test_acc = accuracy_score(y_test, test_pred)\n",
    "    return (train_acc, test_acc)"
   ]
  },
  {
   "cell_type": "markdown",
   "metadata": {},
   "source": [
    "### K-nearest Neighbors"
   ]
  },
  {
   "cell_type": "code",
   "execution_count": 601,
   "metadata": {},
   "outputs": [
    {
     "name": "stdout",
     "output_type": "stream",
     "text": [
      "train accuracy:  0.8688034188034188\n",
      "test accuracy:  0.8529411764705882\n"
     ]
    }
   ],
   "source": [
    "knn_model = KNeighborsClassifier(n_neighbors=5, metric='minkowski', p = 2)\n",
    "\n",
    "knn_3_train_acc, knn_3_test_acc = train_eval_model(knn_model)\n",
    "print('train accuracy: ', knn_3_train_acc)\n",
    "print('test accuracy: ', knn_3_test_acc)"
   ]
  },
  {
   "cell_type": "markdown",
   "metadata": {},
   "source": [
    "#### Cross-validation on best K"
   ]
  },
  {
   "cell_type": "code",
   "execution_count": 602,
   "metadata": {},
   "outputs": [],
   "source": [
    "parameters = {\n",
    "    'n_neighbors': range(1, 50),\n",
    "    'metric': ['minkowski'],\n",
    "    'p': [2]\n",
    "    }\n",
    "gridsearch = GridSearchCV(KNeighborsClassifier(), parameters)"
   ]
  },
  {
   "cell_type": "code",
   "execution_count": 603,
   "metadata": {},
   "outputs": [
    {
     "name": "stdout",
     "output_type": "stream",
     "text": [
      "train accuracy:  0.8688034188034188\n",
      "test accuracy:  0.8529411764705882\n"
     ]
    }
   ],
   "source": [
    "train_grid_acc, test_grid_acc = train_eval_model(gridsearch)\n",
    "\n",
    "\n",
    "print('train accuracy: ', train_grid_acc)\n",
    "print('test accuracy: ', test_grid_acc)"
   ]
  },
  {
   "cell_type": "code",
   "execution_count": 604,
   "metadata": {},
   "outputs": [
    {
     "data": {
      "text/plain": [
       "{'metric': 'minkowski', 'n_neighbors': 5, 'p': 2}"
      ]
     },
     "execution_count": 604,
     "metadata": {},
     "output_type": "execute_result"
    }
   ],
   "source": [
    "gridsearch.best_params_"
   ]
  },
  {
   "cell_type": "markdown",
   "metadata": {},
   "source": [
    "### Decision Tree Classifier"
   ]
  },
  {
   "cell_type": "code",
   "execution_count": 605,
   "metadata": {},
   "outputs": [
    {
     "name": "stdout",
     "output_type": "stream",
     "text": [
      "train accuracy:  0.8991452991452992\n",
      "test accuracy:  0.8958125623130608\n"
     ]
    }
   ],
   "source": [
    "dec_tree = DecisionTreeClassifier()\n",
    "train_tree_acc, test_tree_acc = train_eval_model(dec_tree)\n",
    "print('train accuracy: ', train_tree_acc)\n",
    "print('test accuracy: ', test_tree_acc)"
   ]
  },
  {
   "cell_type": "markdown",
   "metadata": {},
   "source": [
    "### Naive Bayes Classifier"
   ]
  },
  {
   "cell_type": "code",
   "execution_count": 606,
   "metadata": {},
   "outputs": [
    {
     "name": "stdout",
     "output_type": "stream",
     "text": [
      "train acc:  0.5396011396011396\n",
      "test acc:  0.5423728813559322\n"
     ]
    }
   ],
   "source": [
    "from sklearn.naive_bayes import GaussianNB\n",
    "\n",
    "gauss_nb_model = GaussianNB()\n",
    "\n",
    "train_nb_acc, test_nb_acc = train_eval_model(gauss_nb_model)\n",
    "print('train acc: ', train_nb_acc)\n",
    "print('test acc: ', test_nb_acc)"
   ]
  },
  {
   "cell_type": "markdown",
   "metadata": {},
   "source": [
    "### Neural Network"
   ]
  },
  {
   "cell_type": "code",
   "execution_count": 607,
   "metadata": {},
   "outputs": [
    {
     "name": "stdout",
     "output_type": "stream",
     "text": [
      "train acc:  0.5428774928774929\n",
      "test acc:  0.5458624127617149\n"
     ]
    }
   ],
   "source": [
    "from sklearn.neural_network import MLPClassifier\n",
    "\n",
    "nn_model = MLPClassifier(solver='lbfgs', alpha=1e-5, hidden_layer_sizes=(5, 2), random_state=42)\n",
    "train_nn_acc, test_nn_acc = train_eval_model(nn_model)\n",
    "print('train acc: ', train_nn_acc)\n",
    "print('test acc: ', test_nn_acc)"
   ]
  }
 ],
 "metadata": {
  "kernelspec": {
   "display_name": "Python 3.10.4 ('.chessenv': venv)",
   "language": "python",
   "name": "python3"
  },
  "language_info": {
   "codemirror_mode": {
    "name": "ipython",
    "version": 3
   },
   "file_extension": ".py",
   "mimetype": "text/x-python",
   "name": "python",
   "nbconvert_exporter": "python",
   "pygments_lexer": "ipython3",
   "version": "3.10.4"
  },
  "orig_nbformat": 4,
  "vscode": {
   "interpreter": {
    "hash": "684ae36ccc7c6aa48354fd550b038c1f0dfce16476a4938aa273d46236e9460c"
   }
  }
 },
 "nbformat": 4,
 "nbformat_minor": 2
}
